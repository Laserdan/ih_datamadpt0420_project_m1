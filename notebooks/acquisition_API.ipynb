{
 "cells": [
  {
   "cell_type": "markdown",
   "metadata": {},
   "source": [
    "### Data Acquisition"
   ]
  },
  {
   "cell_type": "code",
   "execution_count": 2,
   "metadata": {},
   "outputs": [],
   "source": [
    "# all modules\n",
    "\n",
    "# import warnings\n",
    "# import pandas as pd\n",
    "# from zipfile import ZipFile"
   ]
  },
  {
   "cell_type": "code",
   "execution_count": 3,
   "metadata": {},
   "outputs": [],
   "source": [
    "# global stuff\n",
    "\n",
    "# warnings.filterwarnings('ignore')\n",
    "# %matplotlib inline\n",
    "# pd.set_option('display.max_rows', 13)\n",
    "# pd.set_option('display.max_columns', 13)"
   ]
  },
  {
   "cell_type": "code",
   "execution_count": 4,
   "metadata": {},
   "outputs": [],
   "source": [
    "# load dataset\n",
    "\n",
    "# zip_data = ZipFile('../data/raw/vehicles.zip')\n",
    "# data = pd.read_csv(zip_data.open('vehicles/vehicles.csv'))"
   ]
  },
  {
   "cell_type": "code",
   "execution_count": 5,
   "metadata": {},
   "outputs": [
    {
     "name": "stdout",
     "output_type": "stream",
     "text": [
      "DATAFRAME SHAPE \n",
      " - rows: 35952 \n",
      " - columns: 15 \n",
      "\n",
      "DATAFRAME NULLS COUNT: \n",
      "Make                       0\n",
      "Model                      0\n",
      "Year                       0\n",
      "Engine Displacement        0\n",
      "Cylinders                  0\n",
      "Transmission               0\n",
      "                          ..\n",
      "Fuel Barrels/Year          0\n",
      "City MPG                   0\n",
      "Highway MPG                0\n",
      "Combined MPG               0\n",
      "CO2 Emission Grams/Mile    0\n",
      "Fuel Cost/Year             0\n",
      "Length: 15, dtype: int64 \n",
      "\n",
      "DATAFRAME COLUMNS TYPE: \n",
      "Make                        object\n",
      "Model                       object\n",
      "Year                         int64\n",
      "Engine Displacement        float64\n",
      "Cylinders                  float64\n",
      "Transmission                object\n",
      "                            ...   \n",
      "Fuel Barrels/Year          float64\n",
      "City MPG                     int64\n",
      "Highway MPG                  int64\n",
      "Combined MPG                 int64\n",
      "CO2 Emission Grams/Mile    float64\n",
      "Fuel Cost/Year               int64\n",
      "Length: 15, dtype: object\n"
     ]
    }
   ],
   "source": [
    "# basic exploration\n",
    "\n",
    "# print('DATAFRAME SHAPE \\n - rows: {} \\n - columns: {}'.format(data.shape[0],data.shape[1]),'\\n')\n",
    "# print('DATAFRAME NULLS COUNT: \\n{}'.format(data.isnull().sum()),'\\n')\n",
    "# print('DATAFRAME COLUMNS TYPE: \\n{}'.format(data.dtypes,'\\n'))"
   ]
  },
  {
   "cell_type": "code",
   "execution_count": 15,
   "metadata": {},
   "outputs": [],
   "source": [
    "import requests\n",
    "import pandas as pd\n",
    "import itertools"
   ]
  },
  {
   "cell_type": "code",
   "execution_count": 4,
   "metadata": {},
   "outputs": [],
   "source": [
    "#http://api.dataatwork.org/v1/jobs?offset=46296&limit=1\n",
    "\n",
    "# ----- Get the number of jobs -----\n",
    "\n",
    "response = requests.get('http://api.dataatwork.org/v1/jobs?offset=0&limit=1')\n",
    "\n",
    "json_data = response.json()\n",
    "\n",
    "number_of_jobs = int(json_data[1]['links'][3]['href'].replace('/jobs?offset=','').replace('&limit=1',''))\n",
    "number_of_requests = number_of_jobs // 500\n",
    "last_request = number_of_jobs % 500"
   ]
  },
  {
   "cell_type": "code",
   "execution_count": 6,
   "metadata": {},
   "outputs": [],
   "source": [
    "# ----- Get jsons ----- REQUEST\n",
    "\n",
    "\n",
    "response_500s = [requests.get(f'http://api.dataatwork.org/v1/jobs?offset={500 * (request-1)}&limit=500') for request in range(number_of_requests)]\n",
    "response_last = requests.get(f'http://api.dataatwork.org/v1/jobs?offset={number_of_jobs - last_request}&limit=500')"
   ]
  },
  {
   "cell_type": "code",
   "execution_count": 54,
   "metadata": {},
   "outputs": [
    {
     "data": {
      "text/html": [
       "<div>\n",
       "<style scoped>\n",
       "    .dataframe tbody tr th:only-of-type {\n",
       "        vertical-align: middle;\n",
       "    }\n",
       "\n",
       "    .dataframe tbody tr th {\n",
       "        vertical-align: top;\n",
       "    }\n",
       "\n",
       "    .dataframe thead th {\n",
       "        text-align: right;\n",
       "    }\n",
       "</style>\n",
       "<table border=\"1\" class=\"dataframe\">\n",
       "  <thead>\n",
       "    <tr style=\"text-align: right;\">\n",
       "      <th></th>\n",
       "      <th>uuid</th>\n",
       "      <th>title</th>\n",
       "      <th>normalized_job_title</th>\n",
       "      <th>parent_uuid</th>\n",
       "    </tr>\n",
       "  </thead>\n",
       "  <tbody>\n",
       "    <tr>\n",
       "      <th>0</th>\n",
       "      <td>26bc4486dfd0f60b3bb0d8d64e001800</td>\n",
       "      <td>1st Grade Teacher</td>\n",
       "      <td>1st grade teacher</td>\n",
       "      <td>51cc95467c1844c7dc1d923265c023b2</td>\n",
       "    </tr>\n",
       "    <tr>\n",
       "      <th>1</th>\n",
       "      <td>9be6e14491305132c175cb1781a3356c</td>\n",
       "      <td>1st Pressman</td>\n",
       "      <td>1st pressman</td>\n",
       "      <td>96f1cf15fe5880d8660c70f0756944ab</td>\n",
       "    </tr>\n",
       "    <tr>\n",
       "      <th>2</th>\n",
       "      <td>d38d16bab3f9f25ae34ae3e2aad254d4</td>\n",
       "      <td>1st Pressman On Web Press</td>\n",
       "      <td>1st pressman on web press</td>\n",
       "      <td>96f1cf15fe5880d8660c70f0756944ab</td>\n",
       "    </tr>\n",
       "    <tr>\n",
       "      <th>3</th>\n",
       "      <td>8576a78b5c1cae3a567ca7fd34500357</td>\n",
       "      <td>21 Dealer</td>\n",
       "      <td>21 dealer</td>\n",
       "      <td>4be080220c824dcb435d59ebf1c3ce80</td>\n",
       "    </tr>\n",
       "    <tr>\n",
       "      <th>4</th>\n",
       "      <td>a59278d7f653db37e54a270345a91a05</td>\n",
       "      <td>2nd Grade Teacher</td>\n",
       "      <td>2nd grade teacher</td>\n",
       "      <td>51cc95467c1844c7dc1d923265c023b2</td>\n",
       "    </tr>\n",
       "  </tbody>\n",
       "</table>\n",
       "</div>"
      ],
      "text/plain": [
       "                               uuid                      title  \\\n",
       "0  26bc4486dfd0f60b3bb0d8d64e001800          1st Grade Teacher   \n",
       "1  9be6e14491305132c175cb1781a3356c               1st Pressman   \n",
       "2  d38d16bab3f9f25ae34ae3e2aad254d4  1st Pressman On Web Press   \n",
       "3  8576a78b5c1cae3a567ca7fd34500357                  21 Dealer   \n",
       "4  a59278d7f653db37e54a270345a91a05          2nd Grade Teacher   \n",
       "\n",
       "        normalized_job_title                       parent_uuid  \n",
       "0          1st grade teacher  51cc95467c1844c7dc1d923265c023b2  \n",
       "1               1st pressman  96f1cf15fe5880d8660c70f0756944ab  \n",
       "2  1st pressman on web press  96f1cf15fe5880d8660c70f0756944ab  \n",
       "3                  21 dealer  4be080220c824dcb435d59ebf1c3ce80  \n",
       "4          2nd grade teacher  51cc95467c1844c7dc1d923265c023b2  "
      ]
     },
     "execution_count": 54,
     "metadata": {},
     "output_type": "execute_result"
    }
   ],
   "source": [
    "# ----- Get jsons ----- JSONS\n",
    "\n",
    "json_data_500s = [response.json()[:-1] for response in response_500s]\n",
    "json_data_last = response_last.json()[:-1]\n",
    "\n",
    "# ----- Flatten and join -----\n",
    "\n",
    "json_data_500s_flat = list(itertools.chain(*json_data_500s))\n",
    "json_data = json_data_500s_flat + json_data_last\n",
    "\n",
    "jobs_df = pd.DataFrame(json_data)\n",
    "jobs_df.head()"
   ]
  }
 ],
 "metadata": {
  "kernelspec": {
   "display_name": "Python 3",
   "language": "python",
   "name": "python3"
  },
  "language_info": {
   "codemirror_mode": {
    "name": "ipython",
    "version": 3
   },
   "file_extension": ".py",
   "mimetype": "text/x-python",
   "name": "python",
   "nbconvert_exporter": "python",
   "pygments_lexer": "ipython3",
   "version": "3.7.7"
  }
 },
 "nbformat": 4,
 "nbformat_minor": 4
}
