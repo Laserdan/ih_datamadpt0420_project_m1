{
 "cells": [
  {
   "cell_type": "markdown",
   "metadata": {},
   "source": [
    "### Countries web scraping"
   ]
  },
  {
   "cell_type": "code",
   "execution_count": 63,
   "metadata": {},
   "outputs": [],
   "source": [
    "import requests\n",
    "from bs4 import BeautifulSoup\n",
    "import pandas as pd\n",
    "import re\n",
    "import itertools"
   ]
  },
  {
   "cell_type": "code",
   "execution_count": 4,
   "metadata": {},
   "outputs": [],
   "source": [
    "url = 'https://ec.europa.eu/eurostat/statistics-explained/index.php/Glossary:Country_codes'"
   ]
  },
  {
   "cell_type": "code",
   "execution_count": 8,
   "metadata": {},
   "outputs": [],
   "source": [
    "html = requests.get(url).content\n",
    "soup = BeautifulSoup(html, 'lxml')"
   ]
  },
  {
   "cell_type": "code",
   "execution_count": 16,
   "metadata": {},
   "outputs": [],
   "source": [
    "tables = soup.find_all('table')"
   ]
  },
  {
   "cell_type": "code",
   "execution_count": 92,
   "metadata": {},
   "outputs": [
    {
     "data": {
      "text/plain": [
       "{'BE': 'Belgium',\n",
       " 'EL': 'Greece',\n",
       " 'LT': 'Lithuania',\n",
       " 'PT': 'Portugal',\n",
       " 'BG': 'Bulgaria',\n",
       " 'ES': 'Spain',\n",
       " 'LU': 'Luxembourg',\n",
       " 'RO': 'Romania',\n",
       " 'CZ': 'Czechia',\n",
       " 'FR': 'France',\n",
       " 'HU': 'Hungary',\n",
       " 'SI': 'Slovenia',\n",
       " 'DK': 'Denmark',\n",
       " 'HR': 'Croatia',\n",
       " 'MT': 'Malta',\n",
       " 'SK': 'Slovakia',\n",
       " 'DE': 'Germany',\n",
       " 'IT': 'Italy',\n",
       " 'NL': 'Netherlands',\n",
       " 'FI': 'Finland',\n",
       " 'EE': 'Estonia',\n",
       " 'CY': 'Cyprus',\n",
       " 'AT': 'Austria',\n",
       " 'SE': 'Sweden',\n",
       " 'IE': 'Ireland',\n",
       " 'LV': 'Latvia',\n",
       " 'PL': 'Poland',\n",
       " 'UK': 'United Kingdom',\n",
       " 'IS': 'Iceland',\n",
       " 'NO': 'Norway',\n",
       " 'LI': 'Liechtenstein',\n",
       " 'CH': 'Switzerland',\n",
       " 'ME': 'Montenegro',\n",
       " 'MK': 'North Macedonia',\n",
       " 'AL': 'Albania',\n",
       " 'RS': 'Serbia',\n",
       " 'TR': 'Turkey',\n",
       " 'BA': 'Bosnia and Herzegovina',\n",
       " 'XK': 'Kosovo',\n",
       " 'AM': 'Armenia',\n",
       " 'BY': 'Belarus',\n",
       " 'GE': 'Georgia',\n",
       " 'AZ': 'Azerbaijan',\n",
       " 'MD': 'Moldova',\n",
       " 'UA': 'Ukraine',\n",
       " 'DZ': 'Algeria',\n",
       " 'LB': 'Lebanon',\n",
       " 'SY': 'Syria',\n",
       " 'EG': 'Egypt',\n",
       " 'LY': 'Libya',\n",
       " 'TN': 'Tunisia',\n",
       " 'IL': 'Israel',\n",
       " 'MA': 'Morocco',\n",
       " 'JO': 'Jordan',\n",
       " 'PS': 'Palestine',\n",
       " 'RU': 'Russia',\n",
       " 'AR': 'Argentina',\n",
       " 'CN_X_HK': 'China (except Hong Kong)',\n",
       " 'MX': 'Mexico',\n",
       " 'ZA': 'South Africa',\n",
       " 'AU': 'Australia',\n",
       " 'HK': 'Hong Kong',\n",
       " 'NG': 'Nigeria',\n",
       " 'KR': 'South Korea',\n",
       " 'BR': 'Brazil',\n",
       " 'IN': 'India',\n",
       " 'NZ': 'New Zealand',\n",
       " 'TW': 'Taiwan',\n",
       " 'CA': 'Canada',\n",
       " 'JP': 'Japan',\n",
       " 'SG': 'Singapore',\n",
       " 'US': 'United States'}"
      ]
     },
     "execution_count": 92,
     "metadata": {},
     "output_type": "execute_result"
    }
   ],
   "source": [
    "countries_raw = [table.find_all('td') for table in tables]\n",
    "\n",
    "countries_flatted = list(itertools.chain(*countries_raw))\n",
    "\n",
    "\n",
    "countries = [country.text.replace('\\n','') for country in countries_flatted]\n",
    "countries_clean = [country for country in countries if country != '' and country != ' \\xa0']\n",
    "countries_clean = [re.sub('\\[[0-9]\\]','',country).replace('*','') for country in countries_clean]\n",
    "\n",
    "\n",
    "countries_names = [country.strip() for country in countries_clean[::2]]\n",
    "countries_codes = [country.replace('(','').replace(')','').strip() for country in countries_clean [1::2]]\n",
    "countries_dict = {countries_codes[i]: countries_names[i] for i in range(len(countries_names))}\n",
    "countries_dict"
   ]
  }
 ],
 "metadata": {
  "kernelspec": {
   "display_name": "Python [conda env:ironhack_env]",
   "language": "python",
   "name": "conda-env-ironhack_env-py"
  },
  "language_info": {
   "codemirror_mode": {
    "name": "ipython",
    "version": 3
   },
   "file_extension": ".py",
   "mimetype": "text/x-python",
   "name": "python",
   "nbconvert_exporter": "python",
   "pygments_lexer": "ipython3",
   "version": "3.7.3"
  }
 },
 "nbformat": 4,
 "nbformat_minor": 4
}
